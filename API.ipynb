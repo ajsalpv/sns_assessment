{
  "nbformat": 4,
  "nbformat_minor": 0,
  "metadata": {
    "colab": {
      "provenance": []
    },
    "kernelspec": {
      "name": "python3",
      "display_name": "Python 3"
    },
    "language_info": {
      "name": "python"
    }
  },
  "cells": [
    {
      "cell_type": "code",
      "execution_count": 1,
      "metadata": {
        "id": "a_TeYSMDwHiX"
      },
      "outputs": [],
      "source": [
        "import requests"
      ]
    },
    {
      "cell_type": "code",
      "source": [
        "def fetch_apod(api_key):\n",
        "    api_url = \"https://api.nasa.gov/planetary/apod\"\n",
        "    params = {\n",
        "        \"api_key\": api_key\n",
        "    }\n",
        "\n",
        "    try:\n",
        "        # Make the API request\n",
        "        response = requests.get(api_url, params=params)\n",
        "        # Check if the request was successful\n",
        "        response.raise_for_status()\n",
        "        # Parse the JSON response\n",
        "        data = response.json()\n",
        "\n",
        "        return data\n",
        "\n",
        "    except requests.exceptions.HTTPError as http_err:\n",
        "        print(f\"HTTP error occurred: {http_err}\")\n",
        "    except requests.exceptions.RequestException as req_err:\n",
        "        print(f\"Error occurred: {req_err}\")\n",
        "    except ValueError as json_err:\n",
        "        print(f\"JSON decoding error: {json_err}\")\n",
        "\n",
        "    return None"
      ],
      "metadata": {
        "id": "DWgT3hT0wKYg"
      },
      "execution_count": 11,
      "outputs": []
    },
    {
      "cell_type": "code",
      "source": [
        "def display_apod(data):\n",
        "\n",
        "    if data:\n",
        "        print(\"\\nAstronomy Picture of the Day:\")\n",
        "        print(f\"Title: {data['title']}\")\n",
        "        print(f\"Date: {data['date']}\")\n",
        "        print(f\"Explanation: {data['explanation']}\")\n",
        "        print(f\"URL: {data['url']}\")\n",
        "        # Optionally, you could download the image or display it using a library like PIL or OpenCV\n"
      ],
      "metadata": {
        "id": "WiaH4j5KwfiC"
      },
      "execution_count": 12,
      "outputs": []
    },
    {
      "cell_type": "code",
      "source": [
        "api_key = \"DEMO_KEY\"  # Replace with your actual NASA API key\n",
        "\n",
        "# Fetch APOD data from the API\n",
        "data = fetch_apod(api_key)\n",
        "\n",
        "# Display the APOD data\n",
        "display_apod(data)"
      ],
      "metadata": {
        "colab": {
          "base_uri": "https://localhost:8080/"
        },
        "id": "elprXTIwwho2",
        "outputId": "71f8c8bc-0405-47f5-b135-11fb1bd786ed"
      },
      "execution_count": 13,
      "outputs": [
        {
          "output_type": "stream",
          "name": "stdout",
          "text": [
            "\n",
            "Astronomy Picture of the Day:\n",
            "Title: Find the Man in the Moon\n",
            "Date: 2024-09-15\n",
            "Explanation: Have you ever seen the Man in the Moon? This common question plays on the ability of humans to see pareidolia -- imagining familiar icons where they don't actually exist. The textured surface of Earth's full Moon is home to numerous identifications of iconic objects, not only in modern western culture but in world folklore throughout history. Examples, typically dependent on the Moon's perceived orientation, include the Woman in the Moon and the Rabbit in the Moon. One facial outline commonly identified as the Man in the Moon starts by imagining the two dark circular areas -- lunar maria -- here just above the Moon's center, to be the eyes.  Surprisingly, there actually is a man in this Moon image -- a close look will reveal a real person -- with a telescope -- silhouetted against the Moon. This well-planned image was taken in 2016 in Cadalso de los Vidrios in Madrid, Spain.   Observe the Moon Night: NASA Coverage\n",
            "URL: https://apod.nasa.gov/apod/image/2409/ManInMoon_Caxete_1080.jpg\n"
          ]
        }
      ]
    },
    {
      "cell_type": "code",
      "source": [],
      "metadata": {
        "id": "sstAOtknxTEO"
      },
      "execution_count": 13,
      "outputs": []
    }
  ]
}